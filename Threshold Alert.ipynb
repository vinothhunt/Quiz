{
 "cells": [
  {
   "cell_type": "code",
   "execution_count": 48,
   "metadata": {
    "scrolled": true
   },
   "outputs": [
    {
     "name": "stdout",
     "output_type": "stream",
     "text": [
      "2\n"
     ]
    }
   ],
   "source": [
    "import numpy as np\n",
    "import pandas as pd\n",
    "\n",
    "preceedingMinutes = 3\n",
    "alertThreshold =4\n",
    "numCalls=[2,2,2,2,5,5,5,8]\n",
    "#print(numCalls[100])\n",
    "alertcall=0\n",
    "#for i in range numCalls:\n",
    "for i,j in enumerate(numCalls):\n",
    "    value = numCalls[i:i+preceedingMinutes]\n",
    "    #print(value)\n",
    "    if len(value)==preceedingMinutes:\n",
    "        callavg=sum(value)/preceedingMinutes\n",
    "        if (callavg>alertThreshold)==True:\n",
    "            alertcall=alertcall+1\n",
    "print(alertcall)\n",
    "        \n",
    "\n",
    "    \n",
    "\n"
   ]
  },
  {
   "cell_type": "code",
   "execution_count": 47,
   "metadata": {},
   "outputs": [
    {
     "name": "stdout",
     "output_type": "stream",
     "text": [
      "1\n"
     ]
    }
   ],
   "source": [
    "import numpy as np\n",
    "import pandas as pd\n",
    "\n",
    "preceedingMinutes = 3\n",
    "alertThreshold =10\n",
    "numCalls=[5,0,11,10,10,7]\n",
    "\n",
    "alertcall=0\n",
    "#for i in range numCalls:\n",
    "for i,j in enumerate(numCalls):\n",
    "    value = numCalls[i:i+preceedingMinutes]\n",
    "    if len(value)==preceedingMinutes:\n",
    "        callavg=sum(value)/preceedingMinutes\n",
    "        if (callavg>alertThreshold)==True:\n",
    "            alertcall=alertcall+1\n",
    "print(alertcall)\n",
    "        \n",
    "\n",
    "    \n",
    "\n"
   ]
  },
  {
   "cell_type": "code",
   "execution_count": 46,
   "metadata": {},
   "outputs": [
    {
     "name": "stdout",
     "output_type": "stream",
     "text": [
      "3\n"
     ]
    }
   ],
   "source": [
    "import numpy as np\n",
    "import pandas as pd\n",
    "\n",
    "preceedingMinutes = 1\n",
    "alertThreshold =100\n",
    "numCalls=[120,0,101,102]\n",
    "\n",
    "alertcall=0\n",
    "#for i in range numCalls:\n",
    "for i,j in enumerate(numCalls):\n",
    "    value = numCalls[i:i+preceedingMinutes]\n",
    "    #print(value)\n",
    "    if len(value)==preceedingMinutes:\n",
    "        callavg=sum(value)/preceedingMinutes\n",
    "        #print(callavg)\n",
    "        #print(preceedingMinutes)\n",
    "        if (callavg>alertThreshold)==True:\n",
    "            alertcall=alertcall+1\n",
    "print(alertcall)\n",
    "\n",
    "        \n",
    "\n",
    "    \n",
    "\n"
   ]
  },
  {
   "cell_type": "code",
   "execution_count": null,
   "metadata": {},
   "outputs": [],
   "source": []
  }
 ],
 "metadata": {
  "kernelspec": {
   "display_name": "Python 3",
   "language": "python",
   "name": "python3"
  },
  "language_info": {
   "codemirror_mode": {
    "name": "ipython",
    "version": 3
   },
   "file_extension": ".py",
   "mimetype": "text/x-python",
   "name": "python",
   "nbconvert_exporter": "python",
   "pygments_lexer": "ipython3",
   "version": "3.6.5"
  }
 },
 "nbformat": 4,
 "nbformat_minor": 2
}
